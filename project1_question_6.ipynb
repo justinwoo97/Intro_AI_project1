{
 "cells": [
  {
   "cell_type": "code",
   "execution_count": 15,
   "metadata": {},
   "outputs": [],
   "source": [
    "import numpy as np\n",
    "import statistics\n",
    "import math"
   ]
  },
  {
   "cell_type": "code",
   "execution_count": 16,
   "metadata": {},
   "outputs": [],
   "source": [
    "## define node strucutre\n",
    "class Node:\n",
    "    def __init__(self,parent,position):\n",
    "        self.parent = parent\n",
    "        self.position = position\n",
    "        self.f = 0\n",
    "        self.g = 0\n",
    "        self.h = 0\n",
    "        \n",
    "    def __lt__(self,other):\n",
    "        return self.f <= other.f\n",
    "\n",
    "        "
   ]
  },
  {
   "cell_type": "code",
   "execution_count": 17,
   "metadata": {},
   "outputs": [],
   "source": [
    "## create a blank grid\n",
    "## use a* path to walk the walk --> get path\n",
    "## check the path, if path is unwalkable, start from the \n",
    "## first un-walkable spot, and use a* to find the walk \n",
    "def blank_space_a_star(grid,start,end,cost):\n",
    "    ## turn Nodify start,end point\n",
    "    start_node = Node(None,start)\n",
    "    end_node = Node(None,end)\n",
    "    \n",
    "    ## create two list --> open_lst, and close_lst \n",
    "    ## open_lst: store children nodes \n",
    "    ## close_lst: store path node --> path_finder\n",
    "    open_lst = []\n",
    "    close_lst = []\n",
    "    \n",
    "    open_lst.append(start_node)\n",
    "    current_node = open_lst[0]\n",
    "    \n",
    "    n_row,n_col = np.shape(grid)\n",
    "    n_row = n_row -1\n",
    "    n_col = n_col -1\n",
    "    \n",
    "    ## put start node into open_lst\n",
    "    ## loop control, if open lst is not empty\n",
    "    while len(open_lst)>0:\n",
    "        \n",
    "        ## sort open_lst to get the min f val node \n",
    "        ## pop that node and set it to current_node\n",
    "        ## if current_node == end goal, return\n",
    "            ## else get current_node children\n",
    "            ## check its children 1. valid? 2. walkable\n",
    "                ## if yes, append to open_lst \n",
    "                ## else, continue\n",
    "        \n",
    "        \n",
    "        open_lst.sort()\n",
    "#         print(\"open_lst after sort\",[x.position for x in open_lst])\n",
    "#         print(\"f value\",[x.f for x in open_lst])\n",
    "        current_node = open_lst.pop(0)\n",
    "        close_lst.append(current_node)\n",
    "        if current_node.position == end_node.position:\n",
    "            return path_finder(current_node,grid,start_node,end_node)\n",
    "        ## get current_node children\n",
    "        child_loc = [\n",
    "            [0,-1], ## moving left\n",
    "            [0,1],  ## moving right\n",
    "            [1,0],  ## moving down\n",
    "            [-1,0] ## moving up\n",
    "        ]\n",
    "        \n",
    "        for child in child_loc:\n",
    "            ## check if child in open or close lst \n",
    "            ## check if child is valid \n",
    "            ## check if child is walkale\n",
    "            ## add node to the open_lst\n",
    "            mving_child = [current_node.position[0]+child[0],current_node.position[1]+child[1]]\n",
    "            if mving_child not in [x.position for x in open_lst]:\n",
    "                if mving_child not in [y.position for y in close_lst]:\n",
    "                    if 0<=mving_child[0] <= n_row and 0<=mving_child[1] <=n_col:\n",
    "                        if grid[mving_child[0]][mving_child[1]] != 1:\n",
    "                            ## create new node\n",
    "                            mving_node = Node(current_node,mving_child)\n",
    "                            open_lst.append(mving_node)\n",
    "        \n",
    "        \n",
    "        ## caluclate f,g,h\n",
    "        ## heuristic: manhattan \n",
    "        for children in open_lst:\n",
    "            children.g = children.g + cost \n",
    "            children.h = abs(children.position[0]-end_node.position[0])+ abs(children.position[1]-end_node.position[1])\n",
    "            children.f = children.g + children.h\n",
    "            \n",
    "#         print(\"close_lst\",[x.position for x in close_lst])\n",
    "#         print(\"open_lst\",[x.position for x in open_lst])\n",
    "#         print(\"f value\",[x.f for x in open_lst])\n",
    "#         print(\"current_node\",current_node.position)\n",
    "#         print(\"---------------------\")\n",
    "    \n",
    "    return path_finder(current_node,grid,start_node,end_node)"
   ]
  },
  {
   "cell_type": "code",
   "execution_count": 18,
   "metadata": {},
   "outputs": [],
   "source": [
    "\n",
    "# blank_route = [[0, 0], [1, 0], [2, 0], [3, 0], [4, 0], [4, 1], [4, 2], [4, 3], [4, 4]]\n",
    "def repeated_a_star(grid,start,end,cost,blank_route):\n",
    "    restart_block = []\n",
    "    for step in blank_route:\n",
    "        if grid[step[0]][step[1]] == 0:\n",
    "            restart_block.append(step) \n",
    "        else:\n",
    "            break\n",
    "    start_node = restart_block.pop(-1)\n",
    "    repeated_a_result = search(grid,start_node,end,cost)\n",
    "    return [restart_block] + [repeated_a_result]\n",
    "            \n",
    "    "
   ]
  },
  {
   "cell_type": "code",
   "execution_count": 19,
   "metadata": {},
   "outputs": [],
   "source": [
    "    \n",
    "    \n",
    "## define search function \n",
    "def search(grid,start,end,cost):\n",
    "    ## turn Nodify start,end point\n",
    "    start_node = Node(None,start)\n",
    "    end_node = Node(None,end)\n",
    "    \n",
    "    ## create two list --> open_lst, and close_lst \n",
    "    ## open_lst: store children nodes \n",
    "    ## close_lst: store path node --> path_finder\n",
    "    open_lst = []\n",
    "    close_lst = []\n",
    "    \n",
    "    open_lst.append(start_node)\n",
    "    current_node = open_lst[0]\n",
    "    \n",
    "    n_row,n_col = np.shape(grid)\n",
    "    n_row = n_row -1\n",
    "    n_col = n_col -1\n",
    "    \n",
    "    ## put start node into open_lst\n",
    "    ## loop control, if open lst is not empty\n",
    "    while len(open_lst)>0:\n",
    "        \n",
    "        ## sort open_lst to get the min f val node \n",
    "        ## pop that node and set it to current_node\n",
    "        ## if current_node == end goal, return\n",
    "            ## else get current_node children\n",
    "            ## check its children 1. valid? 2. walkable\n",
    "                ## if yes, append to open_lst \n",
    "                ## else, continue\n",
    "        \n",
    "        \n",
    "        open_lst.sort()\n",
    "#         print(\"open_lst after sort\",[x.position for x in open_lst])\n",
    "#         print(\"f value\",[x.f for x in open_lst])\n",
    "        current_node = open_lst.pop(0)\n",
    "        close_lst.append(current_node)\n",
    "        if current_node.position == end_node.position:\n",
    "            return path_finder(current_node,grid,start_node,end_node)\n",
    "        ## get current_node children\n",
    "        child_loc = [\n",
    "            [0,-1], ## moving left\n",
    "            [0,1],  ## moving right\n",
    "            [1,0],  ## moving down\n",
    "            [-1,0] ## moving up\n",
    "        ]\n",
    "        \n",
    "        for child in child_loc:\n",
    "            ## check if child in open or close lst \n",
    "            ## check if child is valid \n",
    "            ## check if child is walkale\n",
    "            ## add node to the open_lst\n",
    "            mving_child = [current_node.position[0]+child[0],current_node.position[1]+child[1]]\n",
    "            if mving_child not in [x.position for x in open_lst]:\n",
    "                if mving_child not in [y.position for y in close_lst]:\n",
    "                    if 0<=mving_child[0] <= n_row and 0<=mving_child[1] <=n_col:\n",
    "                        if grid[mving_child[0]][mving_child[1]] != 1:\n",
    "                            ## create new node\n",
    "                            mving_node = Node(current_node,mving_child)\n",
    "                            open_lst.append(mving_node)\n",
    "        \n",
    "        \n",
    "        for children in open_lst:\n",
    "            children.g = children.g + cost \n",
    "            children.h = math.sqrt(pow(children.position[0]-end_node.position[0],2)+ pow(children.position[1]-end_node.position[1],2))\n",
    "            children.f = children.g + children.h\n",
    "            \n",
    "#         print(\"close_lst\",[x.position for x in close_lst])\n",
    "#         print(\"open_lst\",[x.position for x in open_lst])\n",
    "#         print(\"f value\",[x.f for x in open_lst])\n",
    "#         print(\"current_node\",current_node.position)\n",
    "#         print(\"---------------------\")\n",
    "    \n",
    "    return path_finder(current_node,grid,start_node,end_node)\n",
    "        "
   ]
  },
  {
   "cell_type": "code",
   "execution_count": 20,
   "metadata": {},
   "outputs": [],
   "source": [
    "def path_finder(current_node,grid,start_node,end_node):\n",
    "    path = []\n",
    "    \n",
    "    current = current_node\n",
    "    \n",
    "    while current:\n",
    "        \n",
    "        path.append(current.position)\n",
    "        \n",
    "        current = current.parent\n",
    "        \n",
    "    path = path[::-1]\n",
    "    \n",
    "    if path[0] == start_node.position and path[-1] == end_node.position:\n",
    "        return path\n",
    "    else:\n",
    "        return \"Path is not found\""
   ]
  },
  {
   "cell_type": "code",
   "execution_count": 21,
   "metadata": {},
   "outputs": [],
   "source": [
    "import random\n",
    "\n",
    "## maze function --> 101 x 101 \n",
    "## '0' walkable\n",
    "## '1' block\n",
    "def create_maze(nx,ny,p_val):\n",
    "    ##empty maze, all values are 0\n",
    "    maze = [[0 for j in range(nx)]for i in range(ny)]\n",
    "    \n",
    "    ## loop each cell, calculate p value, resign val\n",
    "    for i in range(nx):\n",
    "        for j in range(ny):\n",
    "            prob_test_for_each_blck = random.uniform(0, 1)\n",
    "            if prob_test_for_each_blck <= p_val:\n",
    "                maze[i][j] = 1 \n",
    "    maze[0][0] = 0\n",
    "    maze[100][100] = 0\n",
    "    return maze\n"
   ]
  },
  {
   "cell_type": "code",
   "execution_count": 50,
   "metadata": {},
   "outputs": [],
   "source": [
    "## p0 = 0.4\n",
    "\n",
    "def avg_traj(nx,ny,p_val):\n",
    "    return_result = []\n",
    "    pass_lst = []\n",
    "    avg_solv = []\n",
    "    for x in range(5):\n",
    "        grid = create_maze(nx,ny,p_val)\n",
    "        start = [0,0]\n",
    "        end = [100,100]\n",
    "        maze = [[0 for j in range(nx)]for i in range(ny)]\n",
    "        blank_route = blank_space_a_star(maze,start,end,cost)\n",
    "        repeated_result = repeated_a_star(grid,start,end,cost,blank_route)\n",
    "        if repeated_result[-1] != 'Path is not found':\n",
    "            pass_lst.append(int(len(repeated_result[0]) + len(repeated_result[-1])))\n",
    "#         else:\n",
    "#             pass_lst.append(0)\n",
    "#     print(pass_lst)\n",
    "    solv_result = statistics.mean(pass_lst)\n",
    "    return [p_val,solv_result]\n"
   ]
  },
  {
   "cell_type": "code",
   "execution_count": 116,
   "metadata": {},
   "outputs": [],
   "source": [
    "def shortest_final_grid(nx,ny,p_val):\n",
    "    return_result = []\n",
    "    avg_solv = []\n",
    "    solv_result = []\n",
    "    pass_lst = []\n",
    "    for x in range(5):\n",
    "#         for y in range(5):\n",
    "        grid = create_maze(nx,ny,p_val)\n",
    "        start = [0,0]\n",
    "        end = [100,100]\n",
    "        maze = [[0 for j in range(nx)]for i in range(ny)]\n",
    "        blank_route = blank_space_a_star(maze,start,end,cost)\n",
    "        repeated_result = repeated_a_star(grid,start,end,cost,blank_route)\n",
    "        if repeated_result[-1] != 'Path is not found':\n",
    "#             print('repeated_result',repeated_result)\n",
    "            pass_lst.append(int(len(repeated_result[0]) + len(repeated_result[-1])))\n",
    "        else:\n",
    "            continue \n",
    "    print(\"pass_lst before calculation\",pass_lst)                \n",
    "    solv_result.append(sum(pass_lst)/min(pass_lst))\n",
    "#     print(\"pass_lst\",pass_lst)\n",
    "#     print(\"solve_result\",solv_result)\n",
    "    \n",
    "    return [p_val,solv_result]\n"
   ]
  },
  {
   "cell_type": "code",
   "execution_count": 157,
   "metadata": {},
   "outputs": [],
   "source": [
    "def shortest_final_grid_wth_shortest_full_grid(nx,ny,p_val):\n",
    "    return_result = []\n",
    "    avg_solv = []\n",
    "    solv_result = []\n",
    "    pass_lst = []\n",
    "    full_grid = []\n",
    "    for x in range(5):\n",
    "#         for y in range(5):\n",
    "        grid = create_maze(nx,ny,p_val)\n",
    "        start = [0,0]\n",
    "        end = [100,100]\n",
    "        maze = [[0 for j in range(nx)]for i in range(ny)]\n",
    "        blank_route = blank_space_a_star(maze,start,end,cost)\n",
    "        repeated_result = repeated_a_star(grid,start,end,cost,blank_route)\n",
    "        a_star = search(grid,start,end,cost)\n",
    "        if repeated_result[-1] != 'Path is not found':\n",
    "#             print('repeated_result',repeated_result)\n",
    "            pass_lst.append(int(len(repeated_result[0]) + len(repeated_result[-1])))\n",
    "            full_grid.append(int(len(a_star)))\n",
    "        else:\n",
    "            continue \n",
    "        print\n",
    "    print(\"pass_lst before calculation\",pass_lst)  \n",
    "    if pass_lst:\n",
    "        solv_result.append(min(pass_lst)/min(full_grid))\n",
    "    return [p_val,solv_result]"
   ]
  },
  {
   "cell_type": "code",
   "execution_count": 158,
   "metadata": {},
   "outputs": [],
   "source": [
    "def avg_cells(nx,ny,p_val):\n",
    "    return_result = []\n",
    "    avg_solv = []\n",
    "    solv_result = []\n",
    "    pass_lst = []\n",
    "    full_grid = []\n",
    "    for x in range(5):\n",
    "#         for y in range(5):\n",
    "        grid = create_maze(nx,ny,p_val)\n",
    "        start = [0,0]\n",
    "        end = [100,100]\n",
    "        maze = [[0 for j in range(nx)]for i in range(ny)]\n",
    "        blank_route = blank_space_a_star(maze,start,end,cost)\n",
    "        repeated_result = repeated_a_star(grid,start,end,cost,blank_route)\n",
    "        a_star = search(grid,start,end,cost)\n",
    "        if repeated_result[-1] != 'Path is not found':\n",
    "#             print('repeated_result',repeated_result)\n",
    "            pass_lst.append(int(len(repeated_result[0]) + len(repeated_result[-1])))\n",
    "        else:\n",
    "            continue \n",
    "        print\n",
    "    print(\"pass_lst before calculation\",pass_lst)                \n",
    "    solv_result.append(np.mean(pass_lst))\n",
    "#     print(\"pass_lst\",pass_lst)\n",
    "#     print(\"solve_result\",solv_result)\n",
    "    \n",
    "    return [p_val,solv_result]"
   ]
  },
  {
   "cell_type": "code",
   "execution_count": 159,
   "metadata": {},
   "outputs": [],
   "source": [
    "# Average Trajectory Length\n",
    "# avg repeated A*\n",
    "\n",
    "\n",
    "#Length of Shortest Path in Final Discovered Gridworld\n",
    "# repeated A* 最短的一条\n",
    "\n",
    "#Length of Shortest Path in Full Gridworld\n",
    "# 普通A*\n",
    "\n",
    "# – Density vs Average (Length of Trajectory / Length of Shortest Path in Final Discovered Gridworld)\n",
    "# – Density vs Average (Length of Shortest Path in Final Discovered Gridworld / Length of Shortest Path in Full Gridworld)\n",
    "# – Density vs Average Number of Cells Processed by Repeated A*"
   ]
  },
  {
   "cell_type": "code",
   "execution_count": 163,
   "metadata": {
    "scrolled": true
   },
   "outputs": [
    {
     "name": "stdout",
     "output_type": "stream",
     "text": [
      "pass_lst before calculation [201, 201, 201, 201, 201]\n",
      "pass_lst before calculation [201, 201, 201, 201, 201]\n",
      "pass_lst before calculation [201, 201, 201, 201, 201]\n",
      "pass_lst before calculation [201, 201, 201, 201, 201]\n",
      "pass_lst before calculation [201, 201, 205, 201, 201]\n",
      "pass_lst before calculation [201, 203, 201, 201, 201]\n",
      "pass_lst before calculation [201, 201, 201, 201, 203]\n",
      "pass_lst before calculation [201, 205, 201, 203]\n",
      "pass_lst before calculation [201, 201, 201, 201, 203]\n",
      "pass_lst before calculation [203, 201, 201, 203, 205]\n",
      "pass_lst before calculation [215, 207, 217, 205, 207]\n",
      "pass_lst before calculation [201, 201, 201, 205, 201]\n",
      "pass_lst before calculation [215, 205, 221, 203, 215]\n",
      "pass_lst before calculation [219, 211, 231, 209, 223]\n",
      "pass_lst before calculation [215, 211, 229]\n",
      "pass_lst before calculation [221, 213, 269]\n",
      "pass_lst before calculation [251, 217, 211, 223]\n",
      "pass_lst before calculation [219, 245, 245, 235]\n",
      "pass_lst before calculation [245]\n",
      "pass_lst before calculation [271, 379, 263]\n",
      "pass_lst before calculation [267, 287]\n"
     ]
    }
   ],
   "source": [
    "if __name__ == \"__main__\":\n",
    "    cost = 1\n",
    "    result_lst = []\n",
    "    result_lst_sfd = []\n",
    "    result_lst_test =[]\n",
    "    result_fdg_fg =[]\n",
    "    result_avg_cells = []\n",
    "    nx,ny = 101,101\n",
    "    for x in np.arange(0,0.33,0.05):\n",
    "        p_val = float(\"{0:.2f}\".format(x))\n",
    "        result_lst.append(avg_traj(nx,ny,p_val))\n",
    "        result_lst_sfd.append(shortest_final_grid(nx,ny,p_val))\n",
    "        result_fdg_fg.append(shortest_final_grid_wth_shortest_full_grid(nx,ny,p_val))\n",
    "        result_avg_cells.append(avg_cells(nx,ny,p_val))\n",
    "    \n",
    "#     print(result_lst)\n"
   ]
  },
  {
   "cell_type": "code",
   "execution_count": 164,
   "metadata": {},
   "outputs": [
    {
     "data": {
      "image/png": "[encoded data removed]",
      "text/plain": [
       "<Figure size 432x288 with 1 Axes>"
      ]
     },
     "metadata": {
      "needs_background": "light"
     },
     "output_type": "display_data"
    }
   ],
   "source": [
    "import matplotlib.pyplot as plt\n",
    "%matplotlib inline\n",
    "\n",
    "x = [x[0] for x in result_lst]\n",
    "y = [y[1] for y in result_lst]\n",
    "\n",
    "fig, ax = plt.subplots()\n",
    "ax.set_title(\"Density vs Average Trajectory Length\", fontsize='16')\n",
    "ax.plot(x, y)\n",
    "# plt.set_title('Run Time Between Three Functions')\n",
    "ax.xaxis.set_label_text(\"Density\",fontsize='13')\n",
    "ax.yaxis.set_label_text(\"Average Trajectory Length\",fontsize='13')\n",
    "plt.grid()\n",
    "plt.show()"
   ]
  },
  {
   "cell_type": "code",
   "execution_count": 165,
   "metadata": {},
   "outputs": [
    {
     "data": {
      "image/png": "[encoded data removed]",
      "text/plain": [
       "<Figure size 432x288 with 1 Axes>"
      ]
     },
     "metadata": {
      "needs_background": "light"
     },
     "output_type": "display_data"
    }
   ],
   "source": [
    "import matplotlib.pyplot as plt\n",
    "%matplotlib inline\n",
    "\n",
    "x = [x[0] for x in result_lst_sfd]\n",
    "y = [y[1] for y in result_lst_sfd]\n",
    "\n",
    "fig, ax = plt.subplots()\n",
    "ax.set_title(\"Density vs Avg(Trajectory/Shortest Path in FDG)\", fontsize='16')\n",
    "ax.plot(x, y)\n",
    "# plt.set_title('Run Time Between Three Functions')\n",
    "ax.xaxis.set_label_text(\"Density\",fontsize='13')\n",
    "ax.yaxis.set_label_text(\"Avg(Trajectory/Shortest Path in FDG)\",fontsize='13')\n",
    "plt.grid()\n",
    "plt.show()"
   ]
  },
  {
   "cell_type": "code",
   "execution_count": 166,
   "metadata": {},
   "outputs": [
    {
     "data": {
      "image/png": "[encoded data removed]",
      "text/plain": [
       "<Figure size 432x288 with 1 Axes>"
      ]
     },
     "metadata": {
      "needs_background": "light"
     },
     "output_type": "display_data"
    }
   ],
   "source": [
    "import matplotlib.pyplot as plt\n",
    "%matplotlib inline\n",
    "\n",
    "x = [x[0] for x in result_fdg_fg]\n",
    "y = [y[1] for y in result_fdg_fg]\n",
    "\n",
    "fig, ax = plt.subplots()\n",
    "ax.set_title(\"Density vs Avg(Shortest Path In FDG/Shortest Path in Full Grid)\", fontsize='16')\n",
    "ax.plot(x, y)\n",
    "# plt.set_title('Run Time Between Three Functions')\n",
    "ax.xaxis.set_label_text(\"Density\",fontsize='13')\n",
    "ax.yaxis.set_label_text(\"Avg(Shortest Path In FDG/Shortest Path in Full Grid)\",fontsize='13')\n",
    "plt.grid()\n",
    "plt.show()"
   ]
  },
  {
   "cell_type": "code",
   "execution_count": 167,
   "metadata": {},
   "outputs": [
    {
     "data": {
      "image/png": "[encoded data removed]",
      "text/plain": [
       "<Figure size 432x288 with 1 Axes>"
      ]
     },
     "metadata": {
      "needs_background": "light"
     },
     "output_type": "display_data"
    }
   ],
   "source": [
    "import matplotlib.pyplot as plt\n",
    "%matplotlib inline\n",
    "\n",
    "x = [x[0] for x in result_avg_cells]\n",
    "y = [y[1] for y in result_avg_cells]\n",
    "\n",
    "fig, ax = plt.subplots()\n",
    "ax.set_title(\"Density vs Avg Cells Processed By Repeated A*\", fontsize='16')\n",
    "ax.plot(x, y)\n",
    "# plt.set_title('Run Time Between Three Functions')\n",
    "ax.xaxis.set_label_text(\"Density\",fontsize='13')\n",
    "ax.yaxis.set_label_text(\"Avg Cells Processed By Repeated A*\",fontsize='13')\n",
    "plt.grid()\n",
    "plt.show()"
   ]
  },
  {
   "cell_type": "code",
   "execution_count": null,
   "metadata": {},
   "outputs": [],
   "source": []
  }
 ],
 "metadata": {
  "kernelspec": {
   "display_name": "Python 3",
   "language": "python",
   "name": "python3"
  },
  "language_info": {
   "codemirror_mode": {
    "name": "ipython",
    "version": 3
   },
   "file_extension": ".py",
   "mimetype": "text/x-python",
   "name": "python",
   "nbconvert_exporter": "python",
   "pygments_lexer": "ipython3",
   "version": "3.7.6"
  }
 },
 "nbformat": 4,
 "nbformat_minor": 4
}
