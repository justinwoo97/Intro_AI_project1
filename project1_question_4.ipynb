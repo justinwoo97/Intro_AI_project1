{
 "cells": [
  {
   "cell_type": "code",
   "execution_count": 17,
   "metadata": {},
   "outputs": [],
   "source": [
    "import numpy as np\n",
    "import statistics\n"
   ]
  },
  {
   "cell_type": "code",
   "execution_count": 18,
   "metadata": {},
   "outputs": [],
   "source": [
    "## define node strucutre\n",
    "class Node:\n",
    "    def __init__(self,parent,position):\n",
    "        self.parent = parent\n",
    "        self.position = position\n",
    "        self.f = 0\n",
    "        self.g = 0\n",
    "        self.h = 0\n",
    "        \n",
    "    def __lt__(self,other):\n",
    "        return self.f <= other.f"
   ]
  },
  {
   "cell_type": "code",
   "execution_count": 19,
   "metadata": {},
   "outputs": [],
   "source": [
    "## create a blank grid\n",
    "## use a* path to walk the walk --> get path\n",
    "## check the path, if path is unwalkable, start from the \n",
    "## first un-walkable spot, and use a* to find the walk \n",
    "def blank_space_a_star(grid,start,end,cost):\n",
    "    ## turn Nodify start,end point\n",
    "    start_node = Node(None,start)\n",
    "    end_node = Node(None,end)\n",
    "    \n",
    "    ## create two list --> open_lst, and close_lst \n",
    "    ## open_lst: store children nodes \n",
    "    ## close_lst: store path node --> path_finder\n",
    "    open_lst = []\n",
    "    close_lst = []\n",
    "    \n",
    "    open_lst.append(start_node)\n",
    "    current_node = open_lst[0]\n",
    "    \n",
    "    n_row,n_col = np.shape(grid)\n",
    "    n_row = n_row -1\n",
    "    n_col = n_col -1\n",
    "    \n",
    "    ## put start node into open_lst\n",
    "    ## loop control, if open lst is not empty\n",
    "    while len(open_lst)>0:\n",
    "        \n",
    "        ## sort open_lst to get the min f val node \n",
    "        ## pop that node and set it to current_node\n",
    "        ## if current_node == end goal, return\n",
    "            ## else get current_node children\n",
    "            ## check its children 1. valid? 2. walkable\n",
    "                ## if yes, append to open_lst \n",
    "                ## else, continue\n",
    "        \n",
    "        \n",
    "        open_lst.sort()\n",
    "#         print(\"open_lst after sort\",[x.position for x in open_lst])\n",
    "#         print(\"f value\",[x.f for x in open_lst])\n",
    "        current_node = open_lst.pop(0)\n",
    "        close_lst.append(current_node)\n",
    "        if current_node.position == end_node.position:\n",
    "            return path_finder(current_node,grid,start_node,end_node)\n",
    "        ## get current_node children\n",
    "        child_loc = [\n",
    "            [0,-1], ## moving left\n",
    "            [0,1],  ## moving right\n",
    "            [1,0],  ## moving down\n",
    "            [-1,0] ## moving up\n",
    "        ]\n",
    "        \n",
    "        for child in child_loc:\n",
    "            ## check if child in open or close lst \n",
    "            ## check if child is valid \n",
    "            ## check if child is walkale\n",
    "            ## add node to the open_lst\n",
    "            mving_child = [current_node.position[0]+child[0],current_node.position[1]+child[1]]\n",
    "            if mving_child not in [x.position for x in open_lst]:\n",
    "                if mving_child not in [y.position for y in close_lst]:\n",
    "                    if 0<=mving_child[0] <= n_row and 0<=mving_child[1] <=n_col:\n",
    "                        if grid[mving_child[0]][mving_child[1]] != 1:\n",
    "                            ## create new node\n",
    "                            mving_node = Node(current_node,mving_child)\n",
    "                            open_lst.append(mving_node)\n",
    "        \n",
    "        \n",
    "        ## caluclate f,g,h\n",
    "        ## heuristic: manhattan \n",
    "        for children in open_lst:\n",
    "            children.g = children.g + cost \n",
    "            children.h = abs(children.position[0]-end_node.position[0])+ abs(children.position[1]-end_node.position[1])\n",
    "            children.f = children.g + children.h\n",
    "            \n",
    "#         print(\"close_lst\",[x.position for x in close_lst])\n",
    "#         print(\"open_lst\",[x.position for x in open_lst])\n",
    "#         print(\"f value\",[x.f for x in open_lst])\n",
    "#         print(\"current_node\",current_node.position)\n",
    "#         print(\"---------------------\")\n",
    "    \n",
    "    return path_finder(current_node,grid,start_node,end_node)"
   ]
  },
  {
   "cell_type": "code",
   "execution_count": 27,
   "metadata": {},
   "outputs": [],
   "source": [
    "\n",
    "# blank_route = [[0, 0], [1, 0], [2, 0], [3, 0], [4, 0], [4, 1], [4, 2], [4, 3], [4, 4]]\n",
    "def repeated_a_star(grid,start,end,cost,blank_route):\n",
    "    restart_block = []\n",
    "    for step in blank_route:\n",
    "        if grid[step[0]][step[1]] == 0:\n",
    "            restart_block.append(step) \n",
    "        else:\n",
    "            break\n",
    "    start_node = restart_block.pop(-1)\n",
    "    repeated_a_result = search(grid,start_node,end,cost)\n",
    "    return [restart_block] + [repeated_a_result]\n",
    "            \n",
    "    "
   ]
  },
  {
   "cell_type": "code",
   "execution_count": 28,
   "metadata": {},
   "outputs": [],
   "source": [
    "    \n",
    "    \n",
    "## define search function \n",
    "def search(grid,start,end,cost):\n",
    "    ## turn Nodify start,end point\n",
    "    start_node = Node(None,start)\n",
    "    end_node = Node(None,end)\n",
    "    \n",
    "    ## create two list --> open_lst, and close_lst \n",
    "    ## open_lst: store children nodes \n",
    "    ## close_lst: store path node --> path_finder\n",
    "    open_lst = []\n",
    "    close_lst = []\n",
    "    \n",
    "    open_lst.append(start_node)\n",
    "    current_node = open_lst[0]\n",
    "    \n",
    "    n_row,n_col = np.shape(grid)\n",
    "    n_row = n_row -1\n",
    "    n_col = n_col -1\n",
    "    \n",
    "    ## put start node into open_lst\n",
    "    ## loop control, if open lst is not empty\n",
    "    while len(open_lst)>0:\n",
    "        \n",
    "        ## sort open_lst to get the min f val node \n",
    "        ## pop that node and set it to current_node\n",
    "        ## if current_node == end goal, return\n",
    "            ## else get current_node children\n",
    "            ## check its children 1. valid? 2. walkable\n",
    "                ## if yes, append to open_lst \n",
    "                ## else, continue\n",
    "        \n",
    "        \n",
    "        open_lst.sort()\n",
    "#         print(\"open_lst after sort\",[x.position for x in open_lst])\n",
    "#         print(\"f value\",[x.f for x in open_lst])\n",
    "        current_node = open_lst.pop(0)\n",
    "        close_lst.append(current_node)\n",
    "        if current_node.position == end_node.position:\n",
    "            return path_finder(current_node,grid,start_node,end_node)\n",
    "        ## get current_node children\n",
    "        child_loc = [\n",
    "            [0,-1], ## moving left\n",
    "            [0,1],  ## moving right\n",
    "            [1,0],  ## moving down\n",
    "            [-1,0] ## moving up\n",
    "        ]\n",
    "        \n",
    "        for child in child_loc:\n",
    "            ## check if child in open or close lst \n",
    "            ## check if child is valid \n",
    "            ## check if child is walkale\n",
    "            ## add node to the open_lst\n",
    "            mving_child = [current_node.position[0]+child[0],current_node.position[1]+child[1]]\n",
    "            if mving_child not in [x.position for x in open_lst]:\n",
    "                if mving_child not in [y.position for y in close_lst]:\n",
    "                    if 0<=mving_child[0] <= n_row and 0<=mving_child[1] <=n_col:\n",
    "                        if grid[mving_child[0]][mving_child[1]] != 1:\n",
    "                            ## create new node\n",
    "                            mving_node = Node(current_node,mving_child)\n",
    "                            open_lst.append(mving_node)\n",
    "        \n",
    "        \n",
    "        ## caluclate f,g,h\n",
    "        ## heuristic: manhattan \n",
    "        for children in open_lst:\n",
    "            children.g = children.g + cost \n",
    "            children.h = abs(children.position[0]-end_node.position[0])+ abs(children.position[1]-end_node.position[1])\n",
    "            children.f = children.g + children.h\n",
    "            \n",
    "#         print(\"close_lst\",[x.position for x in close_lst])\n",
    "#         print(\"open_lst\",[x.position for x in open_lst])\n",
    "#         print(\"f value\",[x.f for x in open_lst])\n",
    "#         print(\"current_node\",current_node.position)\n",
    "#         print(\"---------------------\")\n",
    "    \n",
    "    return path_finder(current_node,grid,start_node,end_node)\n",
    "        "
   ]
  },
  {
   "cell_type": "code",
   "execution_count": 29,
   "metadata": {},
   "outputs": [],
   "source": [
    "def path_finder(current_node,grid,start_node,end_node):\n",
    "    path = []\n",
    "    \n",
    "    current = current_node\n",
    "    \n",
    "    while current:\n",
    "        \n",
    "        path.append(current.position)\n",
    "        \n",
    "        current = current.parent\n",
    "        \n",
    "    path = path[::-1]\n",
    "    \n",
    "    if path[0] == start_node.position and path[-1] == end_node.position:\n",
    "        return path\n",
    "    else:\n",
    "        return \"Path is not found\""
   ]
  },
  {
   "cell_type": "code",
   "execution_count": 30,
   "metadata": {},
   "outputs": [
    {
     "data": {
      "text/plain": [
       "0.9924819984178715"
      ]
     },
     "execution_count": 30,
     "metadata": {},
     "output_type": "execute_result"
    }
   ],
   "source": [
    "import random \n",
    "random.uniform(0, 1)"
   ]
  },
  {
   "cell_type": "code",
   "execution_count": 31,
   "metadata": {},
   "outputs": [],
   "source": [
    "import random\n",
    "\n",
    "## maze function --> 101 x 101 \n",
    "## '0' walkable\n",
    "## '1' block\n",
    "def create_maze(nx,ny,p_val):\n",
    "    ##empty maze, all values are 0\n",
    "    maze = [[0 for j in range(nx)]for i in range(ny)]\n",
    "    \n",
    "    ## loop each cell, calculate p value, resign val\n",
    "    for i in range(nx):\n",
    "        for j in range(ny):\n",
    "            prob_test_for_each_blck = random.uniform(0, 1)\n",
    "            if prob_test_for_each_blck <= p_val:\n",
    "                maze[i][j] = 1 \n",
    "    maze[0][0] = 0\n",
    "    maze[100][100] = 0\n",
    "    return maze\n"
   ]
  },
  {
   "cell_type": "code",
   "execution_count": 32,
   "metadata": {},
   "outputs": [],
   "source": [
    "def q4(nx,ny,p_val):\n",
    "    return_result = []\n",
    "    pass_lst = []\n",
    "    avg_solv = []\n",
    "    for x in range(50):\n",
    "        start = [0,0]\n",
    "        end = [100,100]\n",
    "        maze = [[0 for j in range(nx)]for i in range(ny)]\n",
    "        blank_route = blank_space_a_star(maze,start,end,cost)\n",
    "        grid = create_maze(nx,ny,p_val)\n",
    "        repeated_result = repeated_a_star(grid,start,end,cost,blank_route)\n",
    "        if repeated_result[-1] != 'Path is not found':\n",
    "            pass_lst.append('Yes Path')\n",
    "        else:\n",
    "            pass_lst.append('No Path')\n",
    "        \n",
    "        solv = pass_lst.count('Yes Path')/len(pass_lst)\n",
    "        avg_solv.append(solv)\n",
    "    solv_result = statistics.mean(avg_solv)\n",
    "    return [p_val,solv_result]\n"
   ]
  },
  {
   "cell_type": "code",
   "execution_count": 33,
   "metadata": {},
   "outputs": [
    {
     "name": "stdout",
     "output_type": "stream",
     "text": [
      "[[0.0, 1.0], [0.05, 1.0], [0.1, 0.995086754012139], [0.15, 0.9246839476896671], [0.2, 0.9225921188526702], [0.25, 0.642158866137292], [0.3, 0.6042534461070763], [0.35, 0.2994243605209899], [0.4, 0.0], [0.45, 0.0], [0.5, 0.0], [0.55, 0.0], [0.6, 0.0], [0.65, 0.0], [0.7, 0.0], [0.75, 0.0], [0.8, 0.0], [0.85, 0.0], [0.9, 0.0], [0.95, 0.0]]\n"
     ]
    }
   ],
   "source": [
    "if __name__ == \"__main__\":\n",
    "    cost = 1\n",
    "    result_lst = []\n",
    "    nx,ny = 101,101\n",
    "    for x in np.arange(0,1,0.05):\n",
    "        p_val = float(\"{0:.2f}\".format(x))\n",
    "        result_lst.append(q4(nx,ny,p_val))\n",
    "    print(result_lst)"
   ]
  },
  {
   "cell_type": "code",
   "execution_count": 34,
   "metadata": {},
   "outputs": [
    {
     "data": {
      "image/png": "[encoded data removed]",
      "text/plain": [
       "<Figure size 432x288 with 1 Axes>"
      ]
     },
     "metadata": {
      "needs_background": "light"
     },
     "output_type": "display_data"
    }
   ],
   "source": [
    "import matplotlib.pyplot as plt\n",
    "\n",
    "x = [x[0] for x in result_lst]\n",
    "y = [y[1] for y in result_lst]\n",
    "\n",
    "\n",
    "fig = plt.figure(1)\n",
    "plt.title(\"density vs solvability\", fontsize='16')\n",
    "plt.plot(x, y)\n",
    "plt.xlabel(\"density\",fontsize='13')\n",
    "plt.ylabel(\"solvability\",fontsize='13')\n",
    "plt.grid()\n",
    "plt.show()"
   ]
  },
  {
   "cell_type": "code",
   "execution_count": null,
   "metadata": {},
   "outputs": [],
   "source": []
  }
 ],
 "metadata": {
  "kernelspec": {
   "display_name": "Python 3",
   "language": "python",
   "name": "python3"
  },
  "language_info": {
   "codemirror_mode": {
    "name": "ipython",
    "version": 3
   },
   "file_extension": ".py",
   "mimetype": "text/x-python",
   "name": "python",
   "nbconvert_exporter": "python",
   "pygments_lexer": "ipython3",
   "version": "3.7.6"
  }
 },
 "nbformat": 4,
 "nbformat_minor": 4
}
